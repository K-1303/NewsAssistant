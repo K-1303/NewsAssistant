{
  "nbformat": 4,
  "nbformat_minor": 0,
  "metadata": {
    "colab": {
      "provenance": [],
      "gpuType": "T4"
    },
    "kernelspec": {
      "name": "python3",
      "display_name": "Python 3"
    },
    "language_info": {
      "name": "python"
    },
    "accelerator": "GPU"
  },
  "cells": [
    {
      "cell_type": "markdown",
      "source": [
        "Install Libraries"
      ],
      "metadata": {
        "id": "aLKMdFkkBCjC"
      }
    },
    {
      "cell_type": "code",
      "source": [
        "!pip install langchain\n",
        "!pip install unstructured libmagic python-magic"
      ],
      "metadata": {
        "id": "ZZH5pIkxw84B"
      },
      "execution_count": null,
      "outputs": []
    },
    {
      "cell_type": "markdown",
      "source": [
        "HuggingFace Setup"
      ],
      "metadata": {
        "id": "xOFEfA2PA2n-"
      }
    },
    {
      "cell_type": "code",
      "source": [
        "HuggingFaceApiKey = \"WRITE YOUR KEY HERE\"\n",
        "headers = {\"Authorization\": HuggingFaceApiKey}"
      ],
      "metadata": {
        "id": "ErU_b1xfayNY"
      },
      "execution_count": 62,
      "outputs": []
    },
    {
      "cell_type": "markdown",
      "source": [
        "Imports"
      ],
      "metadata": {
        "id": "NSRnNrY8A-kb"
      }
    },
    {
      "cell_type": "code",
      "source": [
        "import numpy as np\n",
        "from langchain.document_loaders import UnstructuredURLLoader\n",
        "import requests\n",
        "from langchain.text_splitter import RecursiveCharacterTextSplitter"
      ],
      "metadata": {
        "id": "0uzaC2rwC_Kk"
      },
      "execution_count": 63,
      "outputs": []
    },
    {
      "cell_type": "markdown",
      "source": [
        "Web Scrapping"
      ],
      "metadata": {
        "id": "nF8k8Q2bBJ56"
      }
    },
    {
      "cell_type": "code",
      "source": [
        "loader = UnstructuredURLLoader(urls=[\n",
        "    \"https://www.indiatoday.in/india/story/farmers-protest-haryana-kheri-chopta-stone-pelting-leaders-detained-tear-gas-ground-report-2506378-2024-02-23\"\n",
        "])\n",
        "data_ = loader.load()\n",
        "data_ = str(data_)\n",
        "data_"
      ],
      "metadata": {
        "id": "qeFEMvRYy5kt",
        "colab": {
          "base_uri": "https://localhost:8080/",
          "height": 105
        },
        "outputId": "472e91be-9322-4dfe-d490-bdc83cef047c"
      },
      "execution_count": 64,
      "outputs": [
        {
          "output_type": "execute_result",
          "data": {
            "text/plain": [
              "'[Document(page_content=\\'Tear gas fired, stones thrown as farmers\\\\\\' meet in Haryana turns violent | Ground report\\\\n\\\\nThousands of farmers gathered in Haryana\\\\\\'s\\\\xa0Kheri Chopta to participate in a march towards the Khanauri border. The meeting turned violent after police fired tear gas and detained farmer leaders.\\\\n\\\\nListen to Story\\\\n\\\\nLive TV\\\\n\\\\nShare\\\\n\\\\nAdvertisement\\\\n\\\\nFarmers have been stationed at the Punjab-Haryana border as they march to Delhi to pressure the central government to fulfil their demands. (PTI photo)\\\\n\\\\nAnmol Nath Bali\\\\n\\\\nKheri Chopta,\\\\n\\\\nUPDATED: Feb 23, 2024 23:45 IST\\\\n\\\\nIn Short\\\\n\\\\nFarmers\\\\\\' meeting in Haryana\\\\\\'s Kheri Chopta turns violent\\\\n\\\\nPolice fire tear gas, detain farmer leaders\\\\n\\\\nStone pelting by farmers escalates tension\\\\n\\\\nA meeting of farmers in Haryana\\\\\\'s Kheri Chopta turned violent on Friday as police fired tear gas and detained leaders. Thousands had gathered at the site after farmers\\\\\\' unions and khap panchayats asked them to congregate to participate in a march towards the Khanauri border.\\\\n\\\\nIn response to the calls, the Hisar police deployed a substantial force with additional assistance from paramilitary units. Authorities said the increased security measures were a preventative response to maintain peace and order in the region.\\\\n\\\\nadvertisement\\\\n\\\\nHowever, things soon escalated after the police fired tear gas to disperse the farmers. Police then detained farmer leaders and the tension between the two sides increased further.\\\\n\\\\nThis resulted in an outbreak of stone-pelting by the farmers, further aggravating the already tense situation.\\\\n\\\\n\\\\\\'HARYANA POLICE BEHAVING LIKE GENERAL DYER\\\\\\'\\\\n\\\\nAbhimanu Kohard, Bhartiya Kisan Union (Naujwan) President mourned the death of a farmer during clashes at the Punjab-Haryana border. He alleged that cops in civilian clothes instigated the farmers and said the Haryana Police \"behaved like General Dyer\".\\\\n\\\\nHe told India Today TV, “Shubhkaran was someone\\\\\\'s son and brother. On 21 February, we appealed to farmers to maintain peace while marching to Delhi. But some cops were in civil dress and they instigated farmers. Some farmers asked them to stop, and then they used tear gas to attack the farmers. Another farmer, Pritpal, was abducted and taken to the Haryana side. They have killed four of our farmer brothers”.\\\\n\\\\nAbhimanu Kohard said Shubhkaran\\\\\\'s body will be brought to the Khanauri border after an autopsy. \"We will remember 21 Feb as Martyrdom day of Shubhkaran,\" he added.\\\\n\\\\nHe also reiterated the farmers\\\\\\' demand for a legal gurantee for Minimum Support Price (MSP) for their crops.\\\\n\\\\n“We just want the Prime Minister to fulfil his promise on MSP guarantee. Why are the victims of Lakhimpur Kheri not getting justice? Haryana police behaved like General Dyer. You can invoke false FIR and NSA on us, but please don\\\\\\'t kill farmers,\" said the farmer leader.\\\\n\\\\nHe said the Haryana Police should bring proof if they allege that the farmers attacked them. Kohard also questioned who the people were who wore civilian clothes and broke cars and tractors.\\\\n\\\\nPublished By:\\\\n\\\\nchingkheinganbi mayengbam\\\\n\\\\nPublished On:\\\\n\\\\nFeb 23, 2024\\\\n\\\\nMust Watch\\\\n\\\\nIN THIS STORY\\\\n\\\\n#Farmers’ Protest\\\\n\\\\nWatch Live TV\\\\n\\\\nAdvertisement\\\\n\\\\nAlso Watch\\\\n\\\\n0:26\\\\n\\\\nVideo: PM uses virtual reality headset to inspect Kashi ropeway in Varanasi\\\\n\\\\n0:50\\\\n\\\\nSandeshkhali protest: What BJP MP Locket Chatterjee said after being detained?\\\\n\\\\n1:06\\\\n\\\\nVideo: Newlyweds Rakul Preet-Jackky Bhagnani make stylish appearance at Goa airport\\\\n\\\\n0:58\\\\n\\\\nWatch: 14-storey apartment ablaze, fire spread to adjacent building in Spain\\\\n\\\\n0:40\\\\n\\\\nVideo: Singapore airshow takes flight with spectacular aerial displays\\\\n\\\\nAdvertisement\\\\n\\\\nRead This\\\\n\\\\n\\\\\\'Delhi Chalo\\\\\\' march paused for night after day of violence, over 60 injured\\\\n\\\\nWatch: Ashok Chavan’s blooper, Devendra Fadnavis corrects him, bursts of laughter\\\\n\\\\n1 dead, 21 injured in Kansas City after shooting during Super Bowl victory rally\\\\n\\\\n‘Congress doesn’t deserve but we’ll offer 1 seat’: AAP’s take-it-or-leave-it\\\\n\\\\nEx-Maharashtra Chief Minister Ashok Chavan joins BJP, day after quitting Congress\\\\n\\\\nAdvertisement\\', metadata={\\'source\\': \\'https://www.indiatoday.in/india/story/farmers-protest-haryana-kheri-chopta-stone-pelting-leaders-detained-tear-gas-ground-report-2506378-2024-02-23\\'})]'"
            ],
            "application/vnd.google.colaboratory.intrinsic+json": {
              "type": "string"
            }
          },
          "metadata": {},
          "execution_count": 64
        }
      ]
    },
    {
      "cell_type": "markdown",
      "source": [
        "Splitting The Data"
      ],
      "metadata": {
        "id": "5wB2GAMSBXQG"
      }
    },
    {
      "cell_type": "code",
      "source": [
        "splitter = RecursiveCharacterTextSplitter(\n",
        "    chunk_size=1000,\n",
        "    chunk_overlap=200\n",
        ")\n",
        "\n",
        "chunks = splitter.split_text(data_)\n",
        "chunks[0]"
      ],
      "metadata": {
        "id": "kXIHPqyN2DVU",
        "colab": {
          "base_uri": "https://localhost:8080/",
          "height": 105
        },
        "outputId": "7172241c-8880-44fe-ad38-6c6bb670667c"
      },
      "execution_count": 65,
      "outputs": [
        {
          "output_type": "execute_result",
          "data": {
            "text/plain": [
              "\"[Document(page_content='Tear gas fired, stones thrown as farmers\\\\' meet in Haryana turns violent | Ground report\\\\n\\\\nThousands of farmers gathered in Haryana\\\\'s\\\\xa0Kheri Chopta to participate in a march towards the Khanauri border. The meeting turned violent after police fired tear gas and detained farmer leaders.\\\\n\\\\nListen to Story\\\\n\\\\nLive TV\\\\n\\\\nShare\\\\n\\\\nAdvertisement\\\\n\\\\nFarmers have been stationed at the Punjab-Haryana border as they march to Delhi to pressure the central government to fulfil their demands. (PTI photo)\\\\n\\\\nAnmol Nath Bali\\\\n\\\\nKheri Chopta,\\\\n\\\\nUPDATED: Feb 23, 2024 23:45 IST\\\\n\\\\nIn Short\\\\n\\\\nFarmers\\\\' meeting in Haryana\\\\'s Kheri Chopta turns violent\\\\n\\\\nPolice fire tear gas, detain farmer leaders\\\\n\\\\nStone pelting by farmers escalates tension\\\\n\\\\nA meeting of farmers in Haryana\\\\'s Kheri Chopta turned violent on Friday as police fired tear gas and detained leaders. Thousands had gathered at the site after farmers\\\\' unions and khap panchayats asked them to congregate to\""
            ],
            "application/vnd.google.colaboratory.intrinsic+json": {
              "type": "string"
            }
          },
          "metadata": {},
          "execution_count": 65
        }
      ]
    },
    {
      "cell_type": "markdown",
      "source": [
        "Finding Similarity between chunks of data"
      ],
      "metadata": {
        "id": "Ou5g49PXBhSy"
      }
    },
    {
      "cell_type": "code",
      "source": [
        "question = \"What is fired at farmers?\""
      ],
      "metadata": {
        "id": "IVKNilz9Zt7Q"
      },
      "execution_count": 66,
      "outputs": []
    },
    {
      "cell_type": "code",
      "source": [
        "headers ={\"Authorization\": HuggingFaceApiKey}\n",
        "API_URL = \"https://api-inference.huggingface.co/models/sentence-transformers/all-MiniLM-L6-v2\"\n",
        "def query(payload):\n",
        "    response = requests.post(API_URL, headers=headers, json=payload)\n",
        "    return response.json()\n",
        "data = query(\n",
        "    {\n",
        "        \"inputs\": {\n",
        "            \"source_sentence\": question,\n",
        "            \"sentences\": chunks,\n",
        "        }\n",
        "    }\n",
        ")\n",
        "\n",
        "data_array = np.array(data)\n",
        "\n",
        "max_indices = data_array.argsort()[-2:][::-1]\n",
        "\n",
        "context = \"\"\n",
        "\n",
        "for i in max_indices:\n",
        "  context = context + chunks[i]\n",
        "\n",
        "context"
      ],
      "metadata": {
        "id": "xE2m306SXU5E",
        "colab": {
          "base_uri": "https://localhost:8080/",
          "height": 105
        },
        "outputId": "d7aff72a-16ef-45d2-978b-09beb6ab57c0"
      },
      "execution_count": 67,
      "outputs": [
        {
          "output_type": "execute_result",
          "data": {
            "text/plain": [
              "\"[Document(page_content='Tear gas fired, stones thrown as farmers\\\\' meet in Haryana turns violent | Ground report\\\\n\\\\nThousands of farmers gathered in Haryana\\\\'s\\\\xa0Kheri Chopta to participate in a march towards the Khanauri border. The meeting turned violent after police fired tear gas and detained farmer leaders.\\\\n\\\\nListen to Story\\\\n\\\\nLive TV\\\\n\\\\nShare\\\\n\\\\nAdvertisement\\\\n\\\\nFarmers have been stationed at the Punjab-Haryana border as they march to Delhi to pressure the central government to fulfil their demands. (PTI photo)\\\\n\\\\nAnmol Nath Bali\\\\n\\\\nKheri Chopta,\\\\n\\\\nUPDATED: Feb 23, 2024 23:45 IST\\\\n\\\\nIn Short\\\\n\\\\nFarmers\\\\' meeting in Haryana\\\\'s Kheri Chopta turns violent\\\\n\\\\nPolice fire tear gas, detain farmer leaders\\\\n\\\\nStone pelting by farmers escalates tension\\\\n\\\\nA meeting of farmers in Haryana\\\\'s Kheri Chopta turned violent on Friday as police fired tear gas and detained leaders. Thousands had gathered at the site after farmers\\\\' unions and khap panchayats asked them to congregate toKheri Chopta turned violent on Friday as police fired tear gas and detained leaders. Thousands had gathered at the site after farmers\\\\' unions and khap panchayats asked them to congregate to participate in a march towards the Khanauri border.\\\\n\\\\nIn response to the calls, the Hisar police deployed a substantial force with additional assistance from paramilitary units. Authorities said the increased security measures were a preventative response to maintain peace and order in the region.\\\\n\\\\nadvertisement\\\\n\\\\nHowever, things soon escalated after the police fired tear gas to disperse the farmers. Police then detained farmer leaders and the tension between the two sides increased further.\\\\n\\\\nThis resulted in an outbreak of stone-pelting by the farmers, further aggravating the already tense situation.\\\\n\\\\n\\\\'HARYANA POLICE BEHAVING LIKE GENERAL DYER\\\\'\\\\n\\\\nAbhimanu Kohard, Bhartiya Kisan Union (Naujwan) President mourned the death of a farmer during clashes at the Punjab-Haryana border. He\""
            ],
            "application/vnd.google.colaboratory.intrinsic+json": {
              "type": "string"
            }
          },
          "metadata": {},
          "execution_count": 67
        }
      ]
    },
    {
      "cell_type": "markdown",
      "source": [
        "Question Answering"
      ],
      "metadata": {
        "id": "qOahJ23-BoU5"
      }
    },
    {
      "cell_type": "code",
      "source": [
        "API_URL = \"https://api-inference.huggingface.co/models/deepset/roberta-base-squad2\"\n",
        "def query(payload):\n",
        "    response = requests.post(API_URL, headers=headers, json=payload)\n",
        "    return response.json()\n",
        "data = query(\n",
        "    {\n",
        "        \"inputs\": {\n",
        "            \"question\": question,\n",
        "            \"context\": context,\n",
        "        }\n",
        "    }\n",
        ")\n",
        "data"
      ],
      "metadata": {
        "id": "9Fm2m7OsYbkU",
        "colab": {
          "base_uri": "https://localhost:8080/"
        },
        "outputId": "01ff0711-65be-43b2-9a9f-69dbf420e285"
      },
      "execution_count": 68,
      "outputs": [
        {
          "output_type": "execute_result",
          "data": {
            "text/plain": [
              "{'score': 0.5887683629989624, 'start': 1046, 'end': 1054, 'answer': 'tear gas'}"
            ]
          },
          "metadata": {},
          "execution_count": 68
        }
      ]
    },
    {
      "cell_type": "markdown",
      "source": [
        "Summarization"
      ],
      "metadata": {
        "id": "HsqxVYMJBuYs"
      }
    },
    {
      "cell_type": "code",
      "source": [
        "API_URL = \"https://api-inference.huggingface.co/models/facebook/bart-large-cnn\"\n",
        "def query(payload):\n",
        "    response = requests.post(API_URL, headers=headers, json=payload)\n",
        "    return response.json()\n",
        "data = query(\n",
        "    {\n",
        "        \"inputs\": data_,\n",
        "        \"parameters\": {\"do_sample\": False},\n",
        "    }\n",
        ")\n",
        "data"
      ],
      "metadata": {
        "colab": {
          "base_uri": "https://localhost:8080/"
        },
        "id": "prKvsIbjOcY3",
        "outputId": "bbf0ecbc-0a99-4771-dcf6-bb028a947a6e"
      },
      "execution_count": 69,
      "outputs": [
        {
          "output_type": "execute_result",
          "data": {
            "text/plain": [
              "[{'summary_text': \"Thousands of farmers gathered in Haryana's Kheri Chopta to participate in a march towards the Khanauri border. Meeting turned violent after police fired tear gas and detained farmer leaders. Bhartiya Kisan Union (Naujwan) President mourned the death of a farmer during clashes.\"}]"
            ]
          },
          "metadata": {},
          "execution_count": 69
        }
      ]
    }
  ]
}